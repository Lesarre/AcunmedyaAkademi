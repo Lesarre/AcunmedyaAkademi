{
 "cells": [
  {
   "cell_type": "code",
   "execution_count": 1,
   "id": "9719b10e-c62f-42d7-9a4f-d14de34e9bce",
   "metadata": {},
   "outputs": [],
   "source": [
    "import numpy as np"
   ]
  },
  {
   "cell_type": "code",
   "execution_count": 2,
   "id": "eca1bb7d-0510-46c1-baf5-910c9ed6c221",
   "metadata": {},
   "outputs": [],
   "source": [
    "my_array = np.array([\"Emre\",\"Tuana\",3,46,True,0.78])"
   ]
  },
  {
   "cell_type": "code",
   "execution_count": 3,
   "id": "000af70b-5b8f-4bd5-8d0f-c295678e4b17",
   "metadata": {},
   "outputs": [
    {
     "data": {
      "text/plain": [
       "'46'"
      ]
     },
     "execution_count": 3,
     "metadata": {},
     "output_type": "execute_result"
    }
   ],
   "source": [
    "np.random.choice(my_array) #diziden rastgele eleman seçme"
   ]
  },
  {
   "cell_type": "code",
   "execution_count": 6,
   "id": "0d4b3cd8-ee12-4d34-998a-eefe2d2e3426",
   "metadata": {},
   "outputs": [
    {
     "data": {
      "text/plain": [
       "(array([0, 1, 2, 3, 4, 5], dtype=int64),)"
      ]
     },
     "execution_count": 6,
     "metadata": {},
     "output_type": "execute_result"
    }
   ],
   "source": [
    "np.where(my_array) #elemanların indeksini döndürme"
   ]
  },
  {
   "cell_type": "code",
   "execution_count": 14,
   "id": "c1064616-95dd-41a9-8b5f-16d9c2777834",
   "metadata": {},
   "outputs": [
    {
     "data": {
      "text/plain": [
       "array([  0.        ,   2.04081633,   4.08163265,   6.12244898,\n",
       "         8.16326531,  10.20408163,  12.24489796,  14.28571429,\n",
       "        16.32653061,  18.36734694,  20.40816327,  22.44897959,\n",
       "        24.48979592,  26.53061224,  28.57142857,  30.6122449 ,\n",
       "        32.65306122,  34.69387755,  36.73469388,  38.7755102 ,\n",
       "        40.81632653,  42.85714286,  44.89795918,  46.93877551,\n",
       "        48.97959184,  51.02040816,  53.06122449,  55.10204082,\n",
       "        57.14285714,  59.18367347,  61.2244898 ,  63.26530612,\n",
       "        65.30612245,  67.34693878,  69.3877551 ,  71.42857143,\n",
       "        73.46938776,  75.51020408,  77.55102041,  79.59183673,\n",
       "        81.63265306,  83.67346939,  85.71428571,  87.75510204,\n",
       "        89.79591837,  91.83673469,  93.87755102,  95.91836735,\n",
       "        97.95918367, 100.        ])"
      ]
     },
     "execution_count": 14,
     "metadata": {},
     "output_type": "execute_result"
    }
   ],
   "source": [
    "np.linspace(0,100) #belirtilen aralıkta eşit aralıklı sayılar üretir"
   ]
  },
  {
   "cell_type": "code",
   "execution_count": 29,
   "id": "3c9a5065-5b5a-41f4-a4ce-4a87754610a1",
   "metadata": {},
   "outputs": [],
   "source": [
    "my_secarray = np.random.randint(1,100,4) #belirtilen aralıkta belirtilen sayı kadar sayı üretme"
   ]
  },
  {
   "cell_type": "code",
   "execution_count": 30,
   "id": "42a52b44-de3b-4d2f-9a2b-b32a4939383f",
   "metadata": {},
   "outputs": [
    {
     "data": {
      "text/plain": [
       "array([97, 20, 42, 33])"
      ]
     },
     "execution_count": 30,
     "metadata": {},
     "output_type": "execute_result"
    }
   ],
   "source": [
    "my_secarray"
   ]
  },
  {
   "cell_type": "code",
   "execution_count": 31,
   "id": "e4771e46-581a-4a52-9fb7-44413ca2e700",
   "metadata": {},
   "outputs": [
    {
     "data": {
      "text/plain": [
       "97"
      ]
     },
     "execution_count": 31,
     "metadata": {},
     "output_type": "execute_result"
    }
   ],
   "source": [
    "np.min(my_secarray) #maximum ve minimum değerleri bulma\n",
    "np.max(my_secarray)"
   ]
  },
  {
   "cell_type": "code",
   "execution_count": 33,
   "id": "a120aea7-cda8-4649-98e4-f70ad1e421a6",
   "metadata": {},
   "outputs": [],
   "source": [
    "sayilar = np.array([74,52,5465,123,65])"
   ]
  },
  {
   "cell_type": "code",
   "execution_count": 34,
   "id": "98ca6d0d-b70f-4b2c-a982-7498e5e7f2e8",
   "metadata": {},
   "outputs": [],
   "source": [
    "sayilar2 = np.array([34,96,7852,46,36])"
   ]
  },
  {
   "cell_type": "code",
   "execution_count": 38,
   "id": "7353da68-0477-4c13-9860-67cb20b1138d",
   "metadata": {},
   "outputs": [],
   "source": [
    "sayilar3 = np.concatenate((sayilar,sayilar2)) #iki diziyi birleştirme"
   ]
  },
  {
   "cell_type": "code",
   "execution_count": 39,
   "id": "9f78230e-f03c-4a5f-82c6-6b0c10348a6b",
   "metadata": {},
   "outputs": [
    {
     "data": {
      "text/plain": [
       "array([  74,   52, 5465,  123,   65,   34,   96, 7852,   46,   36])"
      ]
     },
     "execution_count": 39,
     "metadata": {},
     "output_type": "execute_result"
    }
   ],
   "source": [
    "sayilar3"
   ]
  },
  {
   "cell_type": "code",
   "execution_count": 42,
   "id": "f6de9149-4550-48e0-9eed-e15433a11ee9",
   "metadata": {},
   "outputs": [
    {
     "data": {
      "text/plain": [
       "[array([74, 52]),\n",
       " array([5465,  123]),\n",
       " array([65, 34]),\n",
       " array([  96, 7852]),\n",
       " array([46, 36])]"
      ]
     },
     "execution_count": 42,
     "metadata": {},
     "output_type": "execute_result"
    }
   ],
   "source": [
    "np.split(sayilar3,5) #diziyi bölme"
   ]
  },
  {
   "cell_type": "code",
   "execution_count": 43,
   "id": "d9d2b661-26b8-4f71-8ab9-4a91d267df19",
   "metadata": {},
   "outputs": [
    {
     "data": {
      "text/plain": [
       "2690.6984613664904"
      ]
     },
     "execution_count": 43,
     "metadata": {},
     "output_type": "execute_result"
    }
   ],
   "source": [
    "np.std(sayilar3) #standart sapma hesaplama"
   ]
  },
  {
   "cell_type": "code",
   "execution_count": 47,
   "id": "ba1ebf14-9836-42fd-901c-e2f2464e66d8",
   "metadata": {},
   "outputs": [],
   "source": [
    "baska_sayilar = np.arange(0,100,2) #belirtilen aralıkta sayı dizisi oluşturma"
   ]
  },
  {
   "cell_type": "code",
   "execution_count": 48,
   "id": "b5902108-9cd6-471a-ac5d-53c77f213635",
   "metadata": {},
   "outputs": [
    {
     "data": {
      "text/plain": [
       "array([ 0,  2,  4,  6,  8, 10, 12, 14, 16, 18, 20, 22, 24, 26, 28, 30, 32,\n",
       "       34, 36, 38, 40, 42, 44, 46, 48, 50, 52, 54, 56, 58, 60, 62, 64, 66,\n",
       "       68, 70, 72, 74, 76, 78, 80, 82, 84, 86, 88, 90, 92, 94, 96, 98])"
      ]
     },
     "execution_count": 48,
     "metadata": {},
     "output_type": "execute_result"
    }
   ],
   "source": [
    "baska_sayilar"
   ]
  },
  {
   "cell_type": "code",
   "execution_count": 54,
   "id": "15868cd3-da33-4aff-8461-54255268c246",
   "metadata": {},
   "outputs": [],
   "source": [
    "np.random.shuffle(baska_sayilar) #diziyi rastgele karıştırma"
   ]
  },
  {
   "cell_type": "code",
   "execution_count": 53,
   "id": "a6d758ef-27b4-43c4-8e83-8904c351d664",
   "metadata": {},
   "outputs": [
    {
     "data": {
      "text/plain": [
       "array([10, 14, 74, 68, 98, 56, 50, 24, 32, 30, 66, 96, 28,  2, 76, 72, 60,\n",
       "       94,  0, 86, 88, 52, 84, 70, 48, 40, 62,  4, 90, 58, 22, 80, 12, 78,\n",
       "       36,  8, 42, 38, 92, 18, 44, 20, 16, 54, 82, 34, 26,  6, 64, 46])"
      ]
     },
     "execution_count": 53,
     "metadata": {},
     "output_type": "execute_result"
    }
   ],
   "source": [
    "baska_sayilar"
   ]
  },
  {
   "cell_type": "code",
   "execution_count": null,
   "id": "7bd9c4cc-def7-4954-aa28-9b44a2d0b6eb",
   "metadata": {},
   "outputs": [],
   "source": []
  }
 ],
 "metadata": {
  "kernelspec": {
   "display_name": "Python 3 (ipykernel)",
   "language": "python",
   "name": "python3"
  },
  "language_info": {
   "codemirror_mode": {
    "name": "ipython",
    "version": 3
   },
   "file_extension": ".py",
   "mimetype": "text/x-python",
   "name": "python",
   "nbconvert_exporter": "python",
   "pygments_lexer": "ipython3",
   "version": "3.11.7"
  }
 },
 "nbformat": 4,
 "nbformat_minor": 5
}
